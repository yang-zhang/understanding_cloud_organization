{
 "cells": [
  {
   "cell_type": "code",
   "execution_count": 77,
   "metadata": {},
   "outputs": [],
   "source": [
    "PRFX = 'PrepBbox0908'"
   ]
  },
  {
   "cell_type": "code",
   "execution_count": 78,
   "metadata": {
    "_cell_guid": "b1076dfc-b9ad-4769-8c92-a6c4dae69d19",
    "_uuid": "8f2839f25d086af736a60e9eeb907d3b93b6e0e5"
   },
   "outputs": [],
   "source": [
    "INPUT_SHAPE = (1400, 2100)\n",
    "p_input = '../input'\n",
    "p_output = f'../output/{PRFX}'\n",
    "from pathlib import Path\n",
    "Path(p_output).mkdir(exist_ok=True)"
   ]
  },
  {
   "cell_type": "code",
   "execution_count": 3,
   "metadata": {
    "_cell_guid": "b1076dfc-b9ad-4769-8c92-a6c4dae69d19",
    "_uuid": "8f2839f25d086af736a60e9eeb907d3b93b6e0e5"
   },
   "outputs": [],
   "source": [
    "import pandas as pd\n",
    "import numpy as np\n",
    "import matplotlib.pyplot as plt\n",
    "from tqdm import tqdm\n",
    "from collections import Counter\n",
    "tqdm.pandas()"
   ]
  },
  {
   "cell_type": "code",
   "execution_count": 4,
   "metadata": {
    "_cell_guid": "79c7e3d0-c299-4dcb-8224-4455121ee9b0",
    "_uuid": "d629ff2d2480ee46fbb7e2d37f6b5fab8052498a"
   },
   "outputs": [
    {
     "data": {
      "text/plain": [
       "(22184, 2)"
      ]
     },
     "execution_count": 4,
     "metadata": {},
     "output_type": "execute_result"
    }
   ],
   "source": [
    "df = pd.read_csv(f'{p_input}/train.csv')\n",
    "df.shape"
   ]
  },
  {
   "cell_type": "markdown",
   "metadata": {},
   "source": [
    "# labels"
   ]
  },
  {
   "cell_type": "code",
   "execution_count": 21,
   "metadata": {},
   "outputs": [],
   "source": [
    "df['Image'] = df.Image_Label.apply(lambda x: x.split('_')[0])\n",
    "df['Label'] = df.Image_Label.apply(lambda x: x.split('_')[1])\n",
    "df = df[df.EncodedPixels.notnull()]"
   ]
  },
  {
   "cell_type": "code",
   "execution_count": 80,
   "metadata": {},
   "outputs": [
    {
     "data": {
      "text/html": [
       "<div>\n",
       "<style scoped>\n",
       "    .dataframe tbody tr th:only-of-type {\n",
       "        vertical-align: middle;\n",
       "    }\n",
       "\n",
       "    .dataframe tbody tr th {\n",
       "        vertical-align: top;\n",
       "    }\n",
       "\n",
       "    .dataframe thead th {\n",
       "        text-align: right;\n",
       "    }\n",
       "</style>\n",
       "<table border=\"1\" class=\"dataframe\">\n",
       "  <thead>\n",
       "    <tr style=\"text-align: right;\">\n",
       "      <th></th>\n",
       "      <th>0</th>\n",
       "      <th>1</th>\n",
       "    </tr>\n",
       "  </thead>\n",
       "  <tbody>\n",
       "    <tr>\n",
       "      <th>0</th>\n",
       "      <td>Gravel</td>\n",
       "      <td>0</td>\n",
       "    </tr>\n",
       "    <tr>\n",
       "      <th>1</th>\n",
       "      <td>Fish</td>\n",
       "      <td>1</td>\n",
       "    </tr>\n",
       "    <tr>\n",
       "      <th>2</th>\n",
       "      <td>Flower</td>\n",
       "      <td>2</td>\n",
       "    </tr>\n",
       "    <tr>\n",
       "      <th>3</th>\n",
       "      <td>Sugar</td>\n",
       "      <td>3</td>\n",
       "    </tr>\n",
       "  </tbody>\n",
       "</table>\n",
       "</div>"
      ],
      "text/plain": [
       "        0  1\n",
       "0  Gravel  0\n",
       "1    Fish  1\n",
       "2  Flower  2\n",
       "3   Sugar  3"
      ]
     },
     "execution_count": 80,
     "metadata": {},
     "output_type": "execute_result"
    }
   ],
   "source": [
    "lbls = list(set(df.Label))\n",
    "df_lbls = pd.DataFrame(list(zip(lbls, range(len(lbls)))))\n",
    "df_lbls"
   ]
  },
  {
   "cell_type": "code",
   "execution_count": 81,
   "metadata": {},
   "outputs": [],
   "source": [
    "df_lbls.to_csv(f'{p_output}/lbls.csv', index=False, header=None)"
   ]
  },
  {
   "cell_type": "code",
   "execution_count": 5,
   "metadata": {},
   "outputs": [],
   "source": [
    "def rle2msk(rle, shape=INPUT_SHAPE):\n",
    "    '''\n",
    "    rle: run-length as string formatted (start length)\n",
    "    shape: (height, width) of array to return \n",
    "    Returns numpy array, 1 - mask, 0 - background\n",
    "    '''\n",
    "    s = rle.split()\n",
    "    starts, lengths = [np.asarray(x, dtype=int) for x in (s[0:][::2], s[1:][::2])]\n",
    "    starts -= 1\n",
    "    ends = starts + lengths\n",
    "    img = np.zeros(shape[0]*shape[1], dtype=np.uint8)\n",
    "    for lo, hi in zip(starts, ends):\n",
    "        img[lo:hi] = 1\n",
    "    return img.reshape(shape, order='F')  # Needed to align to RLE direction"
   ]
  },
  {
   "cell_type": "markdown",
   "metadata": {},
   "source": [
    "# boxes"
   ]
  },
  {
   "cell_type": "code",
   "execution_count": 17,
   "metadata": {},
   "outputs": [
    {
     "data": {
      "image/png": "[encoded data removed]",
      "text/plain": [
       "<Figure size 432x288 with 1 Axes>"
      ]
     },
     "metadata": {
      "needs_background": "light"
     },
     "output_type": "display_data"
    },
    {
     "name": "stdout",
     "output_type": "stream",
     "text": [
      "Number of objects is 2\n"
     ]
    },
    {
     "data": {
      "image/png": "[encoded data removed]",
      "text/plain": [
       "<Figure size 432x288 with 1 Axes>"
      ]
     },
     "metadata": {
      "needs_background": "light"
     },
     "output_type": "display_data"
    },
    {
     "name": "stdout",
     "output_type": "stream",
     "text": [
      "234 241 1788 869\n",
      "31 947 386 1250\n"
     ]
    },
    {
     "data": {
      "image/png": "[encoded data removed]",
      "text/plain": [
       "<Figure size 432x288 with 1 Axes>"
      ]
     },
     "metadata": {
      "needs_background": "light"
     },
     "output_type": "display_data"
    }
   ],
   "source": [
    "# https://stackoverflow.com/questions/16937158/extracting-connected-objects-from-an-image-in-python\n",
    "from scipy import ndimage\n",
    "rle = df.EncodedPixels[df.EncodedPixels.notnull()].sample().values[0]\n",
    "msk = rle2msk(rle)\n",
    "plt.imshow(msk)\n",
    "plt.show()\n",
    "blur_radius = 1.0\n",
    "threshold = 0.5\n",
    "\n",
    "# smooth the image (to remove small objects)\n",
    "imgf = ndimage.gaussian_filter(msk, blur_radius)\n",
    "\n",
    "# find connected components\n",
    "labeled, nr_objects = ndimage.label(imgf > threshold) \n",
    "print(\"Number of objects is {}\".format(nr_objects))\n",
    "\n",
    "plt.imshow(labeled)\n",
    "plt.show()\n",
    "\n",
    "sz_thrsh = 100*100\n",
    "plt.imshow(labeled)\n",
    "for lbl in range(1, nr_objects+1):\n",
    "    if (labeled==lbl).sum()<sz_thrsh: continue\n",
    "    [(y1, y2), (x1, x2)]= [(o.min(), o.max()) for o in np.where(labeled==lbl)]\n",
    "    print(x1, y1, x2, y2)\n",
    "    plt.plot(x1, y1, 'o');\n",
    "    plt.plot(x1, y2, 'o');\n",
    "    plt.plot(x2, y1, 'o');\n",
    "    plt.plot(x2, y2, 'o');\n",
    "plt.show()\n"
   ]
  },
  {
   "cell_type": "code",
   "execution_count": 22,
   "metadata": {},
   "outputs": [],
   "source": [
    "def msk2bboxes(msk):\n",
    "    res = []\n",
    "    blur_radius = 1.0\n",
    "    threshold = 0.5\n",
    "    sz_thrsh = 100*100\n",
    "    # smooth the image (to remove small objects)\n",
    "    imgf = ndimage.gaussian_filter(msk, blur_radius)\n",
    "    # find connected components\n",
    "    labeled, nr_objects = ndimage.label(imgf > threshold) \n",
    "    for lbl in range(1, nr_objects+1):\n",
    "        if (labeled==lbl).sum()<sz_thrsh: continue\n",
    "        [(y1, y2), (x1, x2)]= [(o.min(), o.max()) for o in np.where(labeled==lbl)]\n",
    "        res.append((x1, y1, x2, y2))\n",
    "    return res"
   ]
  },
  {
   "cell_type": "code",
   "execution_count": 40,
   "metadata": {},
   "outputs": [
    {
     "name": "stderr",
     "output_type": "stream",
     "text": [
      "100%|██████████| 11836/11836 [16:12<00:00, 12.17it/s]\n"
     ]
    }
   ],
   "source": [
    "lst_res = []\n",
    "for _, row in tqdm(df.iterrows(), total=len(df)):\n",
    "    Image, Label, rle = row.Image, row.Label, row.EncodedPixels\n",
    "    msk = rle2msk(rle)\n",
    "    bboxes = msk2bboxes(msk)\n",
    "    lst_res += [(Image, *o, Label) for o in bboxes]"
   ]
  },
  {
   "cell_type": "code",
   "execution_count": 44,
   "metadata": {},
   "outputs": [
    {
     "data": {
      "text/html": [
       "<div>\n",
       "<style scoped>\n",
       "    .dataframe tbody tr th:only-of-type {\n",
       "        vertical-align: middle;\n",
       "    }\n",
       "\n",
       "    .dataframe tbody tr th {\n",
       "        vertical-align: top;\n",
       "    }\n",
       "\n",
       "    .dataframe thead th {\n",
       "        text-align: right;\n",
       "    }\n",
       "</style>\n",
       "<table border=\"1\" class=\"dataframe\">\n",
       "  <thead>\n",
       "    <tr style=\"text-align: right;\">\n",
       "      <th></th>\n",
       "      <th>Image</th>\n",
       "      <th>x1</th>\n",
       "      <th>y1</th>\n",
       "      <th>x2</th>\n",
       "      <th>y2</th>\n",
       "      <th>Label</th>\n",
       "    </tr>\n",
       "  </thead>\n",
       "  <tbody>\n",
       "    <tr>\n",
       "      <th>15809</th>\n",
       "      <td>f5efbe6.jpg</td>\n",
       "      <td>17</td>\n",
       "      <td>7</td>\n",
       "      <td>1477</td>\n",
       "      <td>875</td>\n",
       "      <td>Gravel</td>\n",
       "    </tr>\n",
       "    <tr>\n",
       "      <th>9393</th>\n",
       "      <td>8f722f2.jpg</td>\n",
       "      <td>1299</td>\n",
       "      <td>834</td>\n",
       "      <td>2094</td>\n",
       "      <td>1394</td>\n",
       "      <td>Gravel</td>\n",
       "    </tr>\n",
       "    <tr>\n",
       "      <th>6667</th>\n",
       "      <td>662dd79.jpg</td>\n",
       "      <td>1610</td>\n",
       "      <td>144</td>\n",
       "      <td>2099</td>\n",
       "      <td>731</td>\n",
       "      <td>Fish</td>\n",
       "    </tr>\n",
       "    <tr>\n",
       "      <th>15077</th>\n",
       "      <td>eb4d7d7.jpg</td>\n",
       "      <td>808</td>\n",
       "      <td>484</td>\n",
       "      <td>1411</td>\n",
       "      <td>1215</td>\n",
       "      <td>Flower</td>\n",
       "    </tr>\n",
       "    <tr>\n",
       "      <th>7815</th>\n",
       "      <td>77490dc.jpg</td>\n",
       "      <td>1350</td>\n",
       "      <td>940</td>\n",
       "      <td>2079</td>\n",
       "      <td>1262</td>\n",
       "      <td>Sugar</td>\n",
       "    </tr>\n",
       "  </tbody>\n",
       "</table>\n",
       "</div>"
      ],
      "text/plain": [
       "             Image    x1   y1    x2    y2   Label\n",
       "15809  f5efbe6.jpg    17    7  1477   875  Gravel\n",
       "9393   8f722f2.jpg  1299  834  2094  1394  Gravel\n",
       "6667   662dd79.jpg  1610  144  2099   731    Fish\n",
       "15077  eb4d7d7.jpg   808  484  1411  1215  Flower\n",
       "7815   77490dc.jpg  1350  940  2079  1262   Sugar"
      ]
     },
     "execution_count": 44,
     "metadata": {},
     "output_type": "execute_result"
    }
   ],
   "source": [
    "df_bb = pd.DataFrame(lst_res)\n",
    "\n",
    "df_bb.columns = ['Image', 'x1', 'y1', 'x2', 'y2', 'Label']\n",
    "df_bb.sample(5)"
   ]
  },
  {
   "cell_type": "code",
   "execution_count": 79,
   "metadata": {},
   "outputs": [],
   "source": [
    "df_bb.to_csv(f'{p_output}/boxes.csv', index=False, header=None)"
   ]
  },
  {
   "cell_type": "code",
   "execution_count": 73,
   "metadata": {},
   "outputs": [
    {
     "data": {
      "text/plain": [
       "'/tmp/working/data/git/cld/nbs'"
      ]
     },
     "execution_count": 73,
     "metadata": {},
     "output_type": "execute_result"
    }
   ],
   "source": [
    "pwd"
   ]
  },
  {
   "cell_type": "code",
   "execution_count": 72,
   "metadata": {
    "scrolled": true
   },
   "outputs": [
    {
     "data": {
      "text/plain": [
       "'../output/Prepbbox0908'"
      ]
     },
     "execution_count": 72,
     "metadata": {},
     "output_type": "execute_result"
    }
   ],
   "source": [
    "p_output"
   ]
  },
  {
   "cell_type": "code",
   "execution_count": 76,
   "metadata": {},
   "outputs": [
    {
     "name": "stdout",
     "output_type": "stream",
     "text": [
      "boxes.csv\r\n"
     ]
    }
   ],
   "source": [
    "ls /tmp/working/data/git/cld/output/Prepbbox0908/"
   ]
  },
  {
   "cell_type": "code",
   "execution_count": 71,
   "metadata": {},
   "outputs": [
    {
     "name": "stdout",
     "output_type": "stream",
     "text": [
      "boxes.csv\r\n"
     ]
    }
   ],
   "source": [
    "ls $p_output"
   ]
  },
  {
   "cell_type": "markdown",
   "metadata": {},
   "source": [
    "## verify"
   ]
  },
  {
   "cell_type": "code",
   "execution_count": 50,
   "metadata": {},
   "outputs": [
    {
     "data": {
      "text/html": [
       "<div>\n",
       "<style scoped>\n",
       "    .dataframe tbody tr th:only-of-type {\n",
       "        vertical-align: middle;\n",
       "    }\n",
       "\n",
       "    .dataframe tbody tr th {\n",
       "        vertical-align: top;\n",
       "    }\n",
       "\n",
       "    .dataframe thead th {\n",
       "        text-align: right;\n",
       "    }\n",
       "</style>\n",
       "<table border=\"1\" class=\"dataframe\">\n",
       "  <thead>\n",
       "    <tr style=\"text-align: right;\">\n",
       "      <th></th>\n",
       "      <th>Image_Label</th>\n",
       "      <th>EncodedPixels</th>\n",
       "      <th>Image</th>\n",
       "      <th>Label</th>\n",
       "    </tr>\n",
       "  </thead>\n",
       "  <tbody>\n",
       "    <tr>\n",
       "      <th>8442</th>\n",
       "      <td>601eb93.jpg_Gravel</td>\n",
       "      <td>36423 368 37823 368 39223 368 40623 368 42023 ...</td>\n",
       "      <td>601eb93.jpg</td>\n",
       "      <td>Gravel</td>\n",
       "    </tr>\n",
       "  </tbody>\n",
       "</table>\n",
       "</div>"
      ],
      "text/plain": [
       "             Image_Label                                      EncodedPixels        Image   Label\n",
       "8442  601eb93.jpg_Gravel  36423 368 37823 368 39223 368 40623 368 42023 ...  601eb93.jpg  Gravel"
      ]
     },
     "execution_count": 50,
     "metadata": {},
     "output_type": "execute_result"
    }
   ],
   "source": [
    "df.sample()"
   ]
  },
  {
   "cell_type": "code",
   "execution_count": 70,
   "metadata": {
    "scrolled": true
   },
   "outputs": [
    {
     "data": {
      "image/png": "[encoded data removed]",
      "text/plain": [
       "<Figure size 432x288 with 1 Axes>"
      ]
     },
     "metadata": {
      "needs_background": "light"
     },
     "output_type": "display_data"
    }
   ],
   "source": [
    "_,rle,image,label = df[df.EncodedPixels.notnull()].sample().values[0]\n",
    "msk = rle2msk(rle)\n",
    "plt.imshow(msk)\n",
    "for v in df_bb[(df_bb.Image==image)&(df_bb.Label==label)].values:\n",
    "    _,x1, y1, x2, y2,_ = v\n",
    "    plt.plot(x1, y1, 'o');\n",
    "    plt.plot(x1, y2, 'o');\n",
    "    plt.plot(x2, y1, 'o');\n",
    "    plt.plot(x2, y2, 'o');\n",
    "plt.show()"
   ]
  },
  {
   "cell_type": "code",
   "execution_count": null,
   "metadata": {},
   "outputs": [],
   "source": []
  },
  {
   "cell_type": "code",
   "execution_count": null,
   "metadata": {},
   "outputs": [],
   "source": []
  },
  {
   "cell_type": "code",
   "execution_count": null,
   "metadata": {},
   "outputs": [],
   "source": []
  },
  {
   "cell_type": "code",
   "execution_count": null,
   "metadata": {},
   "outputs": [],
   "source": []
  },
  {
   "cell_type": "code",
   "execution_count": null,
   "metadata": {},
   "outputs": [],
   "source": []
  },
  {
   "cell_type": "code",
   "execution_count": null,
   "metadata": {},
   "outputs": [],
   "source": []
  },
  {
   "cell_type": "code",
   "execution_count": null,
   "metadata": {},
   "outputs": [],
   "source": []
  }
 ],
 "metadata": {
  "kernelspec": {
   "display_name": "Python 3",
   "language": "python",
   "name": "python3"
  },
  "language_info": {
   "codemirror_mode": {
    "name": "ipython",
    "version": 3
   },
   "file_extension": ".py",
   "mimetype": "text/x-python",
   "name": "python",
   "nbconvert_exporter": "python",
   "pygments_lexer": "ipython3",
   "version": "3.6.6"
  },
  "toc": {
   "base_numbering": 1,
   "nav_menu": {},
   "number_sections": true,
   "sideBar": true,
   "skip_h1_title": false,
   "title_cell": "Table of Contents",
   "title_sidebar": "Contents",
   "toc_cell": false,
   "toc_position": {},
   "toc_section_display": true,
   "toc_window_display": false
  }
 },
 "nbformat": 4,
 "nbformat_minor": 2
}
